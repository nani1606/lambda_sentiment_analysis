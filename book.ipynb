{
 "cells": [
  {
   "cell_type": "markdown",
   "id": "d586d5e0",
   "metadata": {},
   "source": [
    "### Fetching tweets using X API"
   ]
  },
  {
   "cell_type": "code",
   "execution_count": null,
   "id": "a4b3555c",
   "metadata": {},
   "outputs": [],
   "source": [
    "import pandas as pd\n",
    "import textblob as tb\n",
    "import tweepy\n",
    "\n",
    "api_key = 'Your_Key_here'\n",
    "client = tweepy.Client(bearer_token=api_key)\n",
    "\n",
    "tweets = []\n",
    "for tweet in tweepy.Paginator(client.search_recent_tweets, query='from:ipl', max_results=80).flatten(limit=50):\n",
    "    tweets.append(tweet.text)\n",
    "df = pd.DataFrame(tweets, columns=['Tweets'])\n",
    "df.to_csv('ipl_tweets.csv', index=False)"
   ]
  },
  {
   "cell_type": "markdown",
   "id": "64696384",
   "metadata": {},
   "source": []
  },
  {
   "cell_type": "code",
   "execution_count": null,
   "id": "b1aecf1a",
   "metadata": {},
   "outputs": [],
   "source": [
    "data = pd.read_csv('ipl_tweets.csv')\n",
    "data = pd.DataFrame(data, columns=[\"Tweets\"])\n",
    "data.dropna\n",
    "data.head()"
   ]
  },
  {
   "cell_type": "code",
   "execution_count": 16,
   "id": "38b582b8",
   "metadata": {},
   "outputs": [
    {
     "name": "stdout",
     "output_type": "stream",
     "text": [
      "                                              Tweets  sentiment\n",
      "0  The Curvv Super Striker of the Match between G...   0.333333\n",
      "1  𝙎𝙖𝙞-𝙡𝙞𝙣𝙜 𝙎𝙢𝙤𝙤𝙩𝙝𝙡𝙮 ⛵\\n\\nFor his elegant and out...   0.433333\n",
      "2  🔝 of their Game. 🔝 of the Table. 💙\\n\\n#GT roar...   0.177778\n",
      "3  Match 23. Gujarat Titans Won by 58 Run(s)  htt...   0.000000\n",
      "4  Match 23. WICKET!  19.2: Maheesh Theekshana 5(...   0.000000\n"
     ]
    }
   ],
   "source": [
    "# Assuming your DataFrame is called 'data'\n",
    "data[\"sentiment\"] = data[\"Tweets\"].apply(lambda x: TextBlob(x).sentiment.polarity)\n",
    "print(data.head())  # Check the first few rows with sentiment"
   ]
  },
  {
   "cell_type": "code",
   "execution_count": 17,
   "id": "31ead8d4",
   "metadata": {},
   "outputs": [
    {
     "name": "stdout",
     "output_type": "stream",
     "text": [
      "Saved to ipl_tweets.csv\n"
     ]
    }
   ],
   "source": [
    "data.to_csv(\"ipl_tweets.csv\", index=False)\n",
    "print(\"Saved to ipl_tweets.csv\")"
   ]
  },
  {
   "cell_type": "code",
   "execution_count": 19,
   "id": "2ff7d584",
   "metadata": {},
   "outputs": [
    {
     "data": {
      "text/html": [
       "<div>\n",
       "<style scoped>\n",
       "    .dataframe tbody tr th:only-of-type {\n",
       "        vertical-align: middle;\n",
       "    }\n",
       "\n",
       "    .dataframe tbody tr th {\n",
       "        vertical-align: top;\n",
       "    }\n",
       "\n",
       "    .dataframe thead th {\n",
       "        text-align: right;\n",
       "    }\n",
       "</style>\n",
       "<table border=\"1\" class=\"dataframe\">\n",
       "  <thead>\n",
       "    <tr style=\"text-align: right;\">\n",
       "      <th></th>\n",
       "      <th>Tweets</th>\n",
       "      <th>sentiment</th>\n",
       "    </tr>\n",
       "  </thead>\n",
       "  <tbody>\n",
       "    <tr>\n",
       "      <th>0</th>\n",
       "      <td>The Curvv Super Striker of the Match between G...</td>\n",
       "      <td>0.333333</td>\n",
       "    </tr>\n",
       "    <tr>\n",
       "      <th>1</th>\n",
       "      <td>𝙎𝙖𝙞-𝙡𝙞𝙣𝙜 𝙎𝙢𝙤𝙤𝙩𝙝𝙡𝙮 ⛵\\n\\nFor his elegant and out...</td>\n",
       "      <td>0.433333</td>\n",
       "    </tr>\n",
       "    <tr>\n",
       "      <th>2</th>\n",
       "      <td>🔝 of their Game. 🔝 of the Table. 💙\\n\\n#GT roar...</td>\n",
       "      <td>0.177778</td>\n",
       "    </tr>\n",
       "    <tr>\n",
       "      <th>3</th>\n",
       "      <td>Match 23. Gujarat Titans Won by 58 Run(s)  htt...</td>\n",
       "      <td>0.000000</td>\n",
       "    </tr>\n",
       "    <tr>\n",
       "      <th>4</th>\n",
       "      <td>Match 23. WICKET!  19.2: Maheesh Theekshana 5(...</td>\n",
       "      <td>0.000000</td>\n",
       "    </tr>\n",
       "  </tbody>\n",
       "</table>\n",
       "</div>"
      ],
      "text/plain": [
       "                                              Tweets  sentiment\n",
       "0  The Curvv Super Striker of the Match between G...   0.333333\n",
       "1  𝙎𝙖𝙞-𝙡𝙞𝙣𝙜 𝙎𝙢𝙤𝙤𝙩𝙝𝙡𝙮 ⛵\\n\\nFor his elegant and out...   0.433333\n",
       "2  🔝 of their Game. 🔝 of the Table. 💙\\n\\n#GT roar...   0.177778\n",
       "3  Match 23. Gujarat Titans Won by 58 Run(s)  htt...   0.000000\n",
       "4  Match 23. WICKET!  19.2: Maheesh Theekshana 5(...   0.000000"
      ]
     },
     "execution_count": 19,
     "metadata": {},
     "output_type": "execute_result"
    }
   ],
   "source": [
    "df = pd.read_csv(\"ipl_tweets.csv\")\n",
    "df = df[['Tweets', 'sentiment']]\n",
    "\n",
    "df.head()"
   ]
  },
  {
   "cell_type": "markdown",
   "id": "b20115ee",
   "metadata": {},
   "source": [
    "### cloud work starts"
   ]
  },
  {
   "cell_type": "code",
   "execution_count": 3,
   "id": "1502e9dc",
   "metadata": {},
   "outputs": [
    {
     "name": "stdout",
     "output_type": "stream",
     "text": [
      "Collecting boto3\n",
      "  Downloading boto3-1.37.31-py3-none-any.whl.metadata (6.7 kB)\n",
      "Collecting botocore<1.38.0,>=1.37.31 (from boto3)\n",
      "  Downloading botocore-1.37.31-py3-none-any.whl.metadata (5.7 kB)\n",
      "Collecting jmespath<2.0.0,>=0.7.1 (from boto3)\n",
      "  Using cached jmespath-1.0.1-py3-none-any.whl.metadata (7.6 kB)\n",
      "Collecting s3transfer<0.12.0,>=0.11.0 (from boto3)\n",
      "  Using cached s3transfer-0.11.4-py3-none-any.whl.metadata (1.7 kB)\n",
      "Requirement already satisfied: python-dateutil<3.0.0,>=2.1 in c:\\users\\nani\\dropbox\\pc\\desktop\\data_project_apr\\myenv\\lib\\site-packages (from botocore<1.38.0,>=1.37.31->boto3) (2.9.0.post0)\n",
      "Requirement already satisfied: urllib3!=2.2.0,<3,>=1.25.4 in c:\\users\\nani\\dropbox\\pc\\desktop\\data_project_apr\\myenv\\lib\\site-packages (from botocore<1.38.0,>=1.37.31->boto3) (2.3.0)\n",
      "Requirement already satisfied: six>=1.5 in c:\\users\\nani\\dropbox\\pc\\desktop\\data_project_apr\\myenv\\lib\\site-packages (from python-dateutil<3.0.0,>=2.1->botocore<1.38.0,>=1.37.31->boto3) (1.17.0)\n",
      "Downloading boto3-1.37.31-py3-none-any.whl (139 kB)\n",
      "Downloading botocore-1.37.31-py3-none-any.whl (13.5 MB)\n",
      "   ---------------------------------------- 0.0/13.5 MB ? eta -:--:--\n",
      "   -------------- ------------------------- 5.0/13.5 MB 27.4 MB/s eta 0:00:01\n",
      "   ---------------------------------------- 13.5/13.5 MB 35.2 MB/s eta 0:00:00\n",
      "Using cached jmespath-1.0.1-py3-none-any.whl (20 kB)\n",
      "Using cached s3transfer-0.11.4-py3-none-any.whl (84 kB)\n",
      "Installing collected packages: jmespath, botocore, s3transfer, boto3\n",
      "Successfully installed boto3-1.37.31 botocore-1.37.31 jmespath-1.0.1 s3transfer-0.11.4\n",
      "Note: you may need to restart the kernel to use updated packages.\n"
     ]
    }
   ],
   "source": [
    "pip install boto3"
   ]
  },
  {
   "cell_type": "markdown",
   "id": "1b6f664c",
   "metadata": {},
   "source": [
    "### uploading to bucket"
   ]
  },
  {
   "cell_type": "code",
   "execution_count": null,
   "id": "bdc21fc4",
   "metadata": {},
   "outputs": [
    {
     "name": "stdout",
     "output_type": "stream",
     "text": [
      "File uploaded to S3 bucket successfully.\n"
     ]
    }
   ],
   "source": [
    "import boto3\n",
    "import pandas as pd\n",
    "\n",
    "s3 = boto3.client('s3', aws_access_key_id='access_key_id', aws_secret_access_key='secret_key')\n",
    "bucket_name = 'bucket-name'  # Replace with your bucket name\n",
    "file_name = 'ipl_tweets.csv'  # Replace with your file name\n",
    "s3.upload_file(file_name, bucket_name, file_name)\n",
    "print(\"File uploaded to S3 bucket successfully.\")"
   ]
  },
  {
   "cell_type": "code",
   "execution_count": 4,
   "id": "1ea069a0",
   "metadata": {},
   "outputs": [
    {
     "name": "stdout",
     "output_type": "stream",
     "text": [
      "Collecting mysql-connector-python\n",
      "  Downloading mysql_connector_python-9.2.0-cp312-cp312-win_amd64.whl.metadata (6.2 kB)\n",
      "Downloading mysql_connector_python-9.2.0-cp312-cp312-win_amd64.whl (16.1 MB)\n",
      "   ---------------------------------------- 0.0/16.1 MB ? eta -:--:--\n",
      "   ------- -------------------------------- 2.9/16.1 MB 21.0 MB/s eta 0:00:01\n",
      "   -------------------------- ------------- 10.5/16.1 MB 31.2 MB/s eta 0:00:01\n",
      "   ---------------------------------------- 16.1/16.1 MB 28.9 MB/s eta 0:00:00\n",
      "Installing collected packages: mysql-connector-python\n",
      "Successfully installed mysql-connector-python-9.2.0\n"
     ]
    }
   ],
   "source": [
    "!pip install mysql-connector-python"
   ]
  },
  {
   "cell_type": "code",
   "execution_count": null,
   "id": "b7f19014",
   "metadata": {},
   "outputs": [
    {
     "name": "stdout",
     "output_type": "stream",
     "text": [
      "Rows inserted: 50\n",
      "Data loaded into RDS\n"
     ]
    }
   ],
   "source": [
    "import mysql.connector\n",
    "import pandas as pd\n",
    "\n",
    "# RDS connection details\n",
    "host = \"rds_client\"\n",
    "user = \"admin\"\n",
    "password = \"password\"\n",
    "database = \"ipl_db\"\n",
    "\n",
    "# Connect to RDS\n",
    "conn = mysql.connector.connect(host=host, user=user, password=password, database=database)\n",
    "cursor = conn.cursor()\n",
    "\n",
    "# Read CSV\n",
    "data = pd.read_csv(\"ipl_tweets.csv\")\n",
    "\n",
    "# Insert data\n",
    "for i, row in data.iterrows():\n",
    "    cursor.execute(\"INSERT INTO tweets (text, sentiment) VALUES (%s, %s)\", (row[\"Tweets\"], row[\"sentiment\"]))\n",
    "conn.commit()\n",
    "\n",
    "# Verify\n",
    "cursor.execute(\"SELECT COUNT(*) FROM tweets\")\n",
    "print(f\"Rows inserted: {cursor.fetchone()[0]}\")\n",
    "conn.close()\n",
    "print(\"Data loaded into RDS\")"
   ]
  }
 ],
 "metadata": {
  "kernelspec": {
   "display_name": "myenv",
   "language": "python",
   "name": "python3"
  },
  "language_info": {
   "codemirror_mode": {
    "name": "ipython",
    "version": 3
   },
   "file_extension": ".py",
   "mimetype": "text/x-python",
   "name": "python",
   "nbconvert_exporter": "python",
   "pygments_lexer": "ipython3",
   "version": "3.12.10"
  }
 },
 "nbformat": 4,
 "nbformat_minor": 5
}
